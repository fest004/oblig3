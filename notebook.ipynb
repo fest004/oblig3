{
 "cells": [
  {
   "cell_type": "code",
   "execution_count": 6,
   "metadata": {},
   "outputs": [],
   "source": [
    "i = {}\n",
    "i[\"key\"] = {3}\n",
    "i[\"key\"].add(2)"
   ]
  },
  {
   "cell_type": "code",
   "execution_count": 16,
   "metadata": {},
   "outputs": [
    {
     "name": "stdout",
     "output_type": "stream",
     "text": [
      "a\n"
     ]
    }
   ],
   "source": [
    "a = 3\n",
    "hash = {\"a\":{3,1,2},\"b\":{1,4},\"c\":{4}}\n",
    "\n",
    "for i in hash.keys():\n",
    "    if a in hash[i]:\n",
    "        print(i)"
   ]
  },
  {
   "cell_type": "code",
   "execution_count": 11,
   "metadata": {},
   "outputs": [
    {
     "name": "stdout",
     "output_type": "stream",
     "text": [
      "14\n"
     ]
    },
    {
     "data": {
      "text/plain": [
       "[6]"
      ]
     },
     "execution_count": 11,
     "metadata": {},
     "output_type": "execute_result"
    }
   ],
   "source": [
    "test_dict = {25:[24],4:[3,1,2],13:[9,4,11],10:[20,8,7],32:[10,21],23:[13,19,32,22],19:[12,5,14,17,30],14:[6,15,16],30:[18,31,29],24:[23,26],26:[27,28]}\n",
    "\n",
    "#nested loop\n",
    "solution_list = []\n",
    "var = 14\n",
    "\n",
    "for key in test_dict.keys():\n",
    "    while var in test_dict[e]:\n"
   ]
  },
  {
   "cell_type": "code",
   "execution_count": 14,
   "metadata": {},
   "outputs": [
    {
     "data": {
      "text/plain": [
       "dict_values([[1, 2, 3], [1, 2]])"
      ]
     },
     "execution_count": 14,
     "metadata": {},
     "output_type": "execute_result"
    }
   ],
   "source": []
  },
  {
   "cell_type": "code",
   "execution_count": 16,
   "metadata": {},
   "outputs": [
    {
     "data": {
      "text/plain": [
       "range(0, 3)"
      ]
     },
     "execution_count": 16,
     "metadata": {},
     "output_type": "execute_result"
    }
   ],
   "source": [
    "range(16)[:3]"
   ]
  },
  {
   "cell_type": "code",
   "execution_count": 20,
   "metadata": {},
   "outputs": [
    {
     "name": "stdout",
     "output_type": "stream",
     "text": [
      "3\n"
     ]
    }
   ],
   "source": [
    "for i in range(12)[:0]:\n",
    "    print(2)\n",
    "print(3)"
   ]
  },
  {
   "cell_type": "code",
   "execution_count": 33,
   "metadata": {},
   "outputs": [
    {
     "data": {
      "text/plain": [
       "[2, 3, 5, 7, 9]"
      ]
     },
     "execution_count": 33,
     "metadata": {},
     "output_type": "execute_result"
    }
   ],
   "source": [
    "inp = [2,3,5,7,9]\n",
    "\n",
    "for n in range(len(inp)): #Starting from one less because n is already sorted \n",
    "    for i in range(len(inp))[:n]:\n",
    "        if inp[n-i] < inp[n-i-1]:\n",
    "            inp[n-1],inp[n-i-1] = inp[n-i-1],[n-1]\n",
    "        else:\n",
    "            break\n",
    "\n",
    "inp"
   ]
  },
  {
   "cell_type": "code",
   "execution_count": 36,
   "metadata": {},
   "outputs": [
    {
     "name": "stdout",
     "output_type": "stream",
     "text": [
      "3\n",
      "[1, 2]\n",
      "[3, 4, 5]\n"
     ]
    }
   ],
   "source": [
    "a = 2\n",
    "b = 3\n",
    "\n",
    "a,b = b,a\n",
    "print(a)\n",
    "c =[1,2,3,4,5]\n",
    "print(c[:2])\n",
    "print(c[2:len(c)])\n",
    "\n"
   ]
  },
  {
   "cell_type": "code",
   "execution_count": 51,
   "metadata": {},
   "outputs": [
    {
     "data": {
      "text/plain": [
       "[1, 2, 3, 4, 5, 6, 8, 9]"
      ]
     },
     "execution_count": 51,
     "metadata": {},
     "output_type": "execute_result"
    }
   ],
   "source": [
    "import numpy as np\n",
    "Tuple = [1,2,3,4]\n",
    "def merge(A,B,output):\n",
    "    i = 0\n",
    "    j = 0 \n",
    "    while i<len(A) and j<len(B):\n",
    "        if A[i] <= B[j]:\n",
    "            output[i+j] = A[i]\n",
    "            i = i +1\n",
    "        else:\n",
    "            output[i+j] = B[j]\n",
    "            j = j+1\n",
    "    while i < len(A):\n",
    "        output[i+j] = A[i]\n",
    "        i = i +1\n",
    "    while j < len(B):\n",
    "        output[i+j] = B[j]\n",
    "        j = j +1\n",
    "    return output\n",
    "\n",
    "def mergesort(A):\n",
    "    if len(A) <= 1:\n",
    "        return A\n",
    "    i = len(A)//2\n",
    "    list1 = mergesort(A[:i])\n",
    "    list2 = mergesort(A[i:])\n",
    "    return(merge(list1,list2,A))\n",
    "\n",
    "\n",
    "\n",
    "mergesort([1,4,6,2,3,8,9,5])\n"
   ]
  },
  {
   "cell_type": "code",
   "execution_count": 95,
   "metadata": {},
   "outputs": [
    {
     "data": {
      "text/plain": [
       "[4, 7, 3, 2, 6, 1, 5]"
      ]
     },
     "execution_count": 95,
     "metadata": {},
     "output_type": "execute_result"
    }
   ],
   "source": [
    "import random\n",
    "unsorted_list = [1,2,3,4,5,6,7]\n",
    "random.shuffle(unsorted_list)\n",
    "unsorted_list"
   ]
  },
  {
   "cell_type": "code",
   "execution_count": 96,
   "metadata": {},
   "outputs": [
    {
     "data": {
      "text/plain": [
       "[1, 2, 3, 4, 5, 6, 7]"
      ]
     },
     "execution_count": 96,
     "metadata": {},
     "output_type": "execute_result"
    }
   ],
   "source": [
    "import numpy as np\n",
    "\n",
    "def Findpivot(array,low,high):\n",
    "    return array.index(np.median([array[low],array[(high+low)//2],array[high]]))\n",
    "\n",
    "def Partition(array,low,high):\n",
    "    p = Findpivot(array,low,high)\n",
    "    array[p],array[high] = array[high],array[p]\n",
    "\n",
    "    pivot = array[high]\n",
    "    left = low\n",
    "    right = high -1\n",
    "\n",
    "    while left <= right:\n",
    "        while left <= right and array[left] <= pivot:\n",
    "            left = left +1\n",
    "        while right >= left and array[right] >= pivot:\n",
    "            right = right -1\n",
    "        if left < right:\n",
    "            array[left], array[right] = array[right], array[left]\n",
    "    array[left], array[high] = array[high], array[left] #Putting pivot in the middle\n",
    "    return left\n",
    "\n",
    "def Quicksort(A, low, high):\n",
    "    if low >= high:\n",
    "        return A\n",
    "    partition = Partition(A, low, high)\n",
    "    Quicksort(A,low, partition-1)\n",
    "    Quicksort(A, partition+1,high)\n",
    "    return A\n",
    "\n",
    "Quicksort(unsorted_list,0,len(unsorted_list)-1)\n"
   ]
  },
  {
   "cell_type": "code",
   "execution_count": 101,
   "metadata": {},
   "outputs": [],
   "source": [
    "#cmp, swp = 0\n",
    "swp, smp = 0, 0"
   ]
  },
  {
   "cell_type": "code",
   "execution_count": null,
   "metadata": {},
   "outputs": [],
   "source": []
  }
 ],
 "metadata": {
  "kernelspec": {
   "display_name": "in3050",
   "language": "python",
   "name": "python3"
  },
  "language_info": {
   "codemirror_mode": {
    "name": "ipython",
    "version": 3
   },
   "file_extension": ".py",
   "mimetype": "text/x-python",
   "name": "python",
   "nbconvert_exporter": "python",
   "pygments_lexer": "ipython3",
   "version": "3.11.7"
  }
 },
 "nbformat": 4,
 "nbformat_minor": 2
}
