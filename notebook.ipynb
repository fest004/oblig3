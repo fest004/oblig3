{
 "cells": [
  {
   "cell_type": "code",
   "execution_count": 6,
   "metadata": {},
   "outputs": [],
   "source": [
    "i = {}\n",
    "i[\"key\"] = {3}\n",
    "i[\"key\"].add(2)"
   ]
  },
  {
   "cell_type": "code",
   "execution_count": 16,
   "metadata": {},
   "outputs": [
    {
     "name": "stdout",
     "output_type": "stream",
     "text": [
      "a\n"
     ]
    }
   ],
   "source": [
    "a = 3\n",
    "hash = {\"a\":{3,1,2},\"b\":{1,4},\"c\":{4}}\n",
    "\n",
    "for i in hash.keys():\n",
    "    if a in hash[i]:\n",
    "        print(i)"
   ]
  },
  {
   "cell_type": "code",
   "execution_count": 11,
   "metadata": {},
   "outputs": [
    {
     "name": "stdout",
     "output_type": "stream",
     "text": [
      "14\n"
     ]
    },
    {
     "data": {
      "text/plain": [
       "[6]"
      ]
     },
     "execution_count": 11,
     "metadata": {},
     "output_type": "execute_result"
    }
   ],
   "source": [
    "test_dict = {25:[24],4:[3,1,2],13:[9,4,11],10:[20,8,7],32:[10,21],23:[13,19,32,22],19:[12,5,14,17,30],14:[6,15,16],30:[18,31,29],24:[23,26],26:[27,28]}\n",
    "\n",
    "#nested loop\n",
    "solution_list = []\n",
    "var = 14\n",
    "\n",
    "for key in test_dict.keys():\n",
    "    while var in test_dict[e]:\n"
   ]
  },
  {
   "cell_type": "code",
   "execution_count": 14,
   "metadata": {},
   "outputs": [
    {
     "data": {
      "text/plain": [
       "dict_values([[1, 2, 3], [1, 2]])"
      ]
     },
     "execution_count": 14,
     "metadata": {},
     "output_type": "execute_result"
    }
   ],
   "source": []
  },
  {
   "cell_type": "code",
   "execution_count": 16,
   "metadata": {},
   "outputs": [
    {
     "data": {
      "text/plain": [
       "range(0, 3)"
      ]
     },
     "execution_count": 16,
     "metadata": {},
     "output_type": "execute_result"
    }
   ],
   "source": [
    "range(16)[:3]"
   ]
  },
  {
   "cell_type": "code",
   "execution_count": 20,
   "metadata": {},
   "outputs": [
    {
     "name": "stdout",
     "output_type": "stream",
     "text": [
      "3\n"
     ]
    }
   ],
   "source": [
    "for i in range(12)[:0]:\n",
    "    print(2)\n",
    "print(3)"
   ]
  },
  {
   "cell_type": "code",
   "execution_count": 33,
   "metadata": {},
   "outputs": [
    {
     "data": {
      "text/plain": [
       "[2, 3, 5, 7, 9]"
      ]
     },
     "execution_count": 33,
     "metadata": {},
     "output_type": "execute_result"
    }
   ],
   "source": [
    "inp = [2,3,5,7,9]\n",
    "\n",
    "for n in range(len(inp)): #Starting from one less because n is already sorted \n",
    "    for i in range(len(inp))[:n]:\n",
    "        if inp[n-i] < inp[n-i-1]:\n",
    "            inp[n-1],inp[n-i-1] = inp[n-i-1],[n-1]\n",
    "        else:\n",
    "            break\n",
    "\n",
    "inp"
   ]
  },
  {
   "cell_type": "code",
   "execution_count": 36,
   "metadata": {},
   "outputs": [
    {
     "name": "stdout",
     "output_type": "stream",
     "text": [
      "3\n",
      "[1, 2]\n",
      "[3, 4, 5]\n"
     ]
    }
   ],
   "source": [
    "a = 2\n",
    "b = 3\n",
    "\n",
    "a,b = b,a\n",
    "print(a)\n",
    "c =[1,2,3,4,5]\n",
    "print(c[:2])\n",
    "print(c[2:len(c)])\n",
    "\n"
   ]
  },
  {
   "cell_type": "code",
   "execution_count": 44,
   "metadata": {},
   "outputs": [
    {
     "ename": "IndexError",
     "evalue": "list index out of range",
     "output_type": "error",
     "traceback": [
      "\u001b[0;31m---------------------------------------------------------------------------\u001b[0m",
      "\u001b[0;31mIndexError\u001b[0m                                Traceback (most recent call last)",
      "Cell \u001b[0;32mIn[44], line 31\u001b[0m\n\u001b[1;32m     26\u001b[0m     list2 \u001b[38;5;241m=\u001b[39m mergesort(A[i:\u001b[38;5;28mlen\u001b[39m(A)])\n\u001b[1;32m     27\u001b[0m     \u001b[38;5;28;01mreturn\u001b[39;00m(merge(list1,list2,A))\n\u001b[0;32m---> 31\u001b[0m mergesort([\u001b[38;5;241m1\u001b[39m,\u001b[38;5;241m4\u001b[39m,\u001b[38;5;241m6\u001b[39m,\u001b[38;5;241m2\u001b[39m,\u001b[38;5;241m3\u001b[39m,\u001b[38;5;241m8\u001b[39m,\u001b[38;5;241m9\u001b[39m,\u001b[38;5;241m5\u001b[39m])\n",
      "Cell \u001b[0;32mIn[44], line 25\u001b[0m, in \u001b[0;36mmergesort\u001b[0;34m(A)\u001b[0m\n\u001b[1;32m     23\u001b[0m     \u001b[38;5;28;01mreturn\u001b[39;00m A\n\u001b[1;32m     24\u001b[0m i \u001b[38;5;241m=\u001b[39m \u001b[38;5;28mlen\u001b[39m(A)\u001b[38;5;241m/\u001b[39m\u001b[38;5;241m/\u001b[39m\u001b[38;5;241m2\u001b[39m\n\u001b[0;32m---> 25\u001b[0m list1 \u001b[38;5;241m=\u001b[39m mergesort(A[\u001b[38;5;241m0\u001b[39m:i])\n\u001b[1;32m     26\u001b[0m list2 \u001b[38;5;241m=\u001b[39m mergesort(A[i:\u001b[38;5;28mlen\u001b[39m(A)])\n\u001b[1;32m     27\u001b[0m \u001b[38;5;28;01mreturn\u001b[39;00m(merge(list1,list2,A))\n",
      "Cell \u001b[0;32mIn[44], line 25\u001b[0m, in \u001b[0;36mmergesort\u001b[0;34m(A)\u001b[0m\n\u001b[1;32m     23\u001b[0m     \u001b[38;5;28;01mreturn\u001b[39;00m A\n\u001b[1;32m     24\u001b[0m i \u001b[38;5;241m=\u001b[39m \u001b[38;5;28mlen\u001b[39m(A)\u001b[38;5;241m/\u001b[39m\u001b[38;5;241m/\u001b[39m\u001b[38;5;241m2\u001b[39m\n\u001b[0;32m---> 25\u001b[0m list1 \u001b[38;5;241m=\u001b[39m mergesort(A[\u001b[38;5;241m0\u001b[39m:i])\n\u001b[1;32m     26\u001b[0m list2 \u001b[38;5;241m=\u001b[39m mergesort(A[i:\u001b[38;5;28mlen\u001b[39m(A)])\n\u001b[1;32m     27\u001b[0m \u001b[38;5;28;01mreturn\u001b[39;00m(merge(list1,list2,A))\n",
      "Cell \u001b[0;32mIn[44], line 27\u001b[0m, in \u001b[0;36mmergesort\u001b[0;34m(A)\u001b[0m\n\u001b[1;32m     25\u001b[0m list1 \u001b[38;5;241m=\u001b[39m mergesort(A[\u001b[38;5;241m0\u001b[39m:i])\n\u001b[1;32m     26\u001b[0m list2 \u001b[38;5;241m=\u001b[39m mergesort(A[i:\u001b[38;5;28mlen\u001b[39m(A)])\n\u001b[0;32m---> 27\u001b[0m \u001b[38;5;28;01mreturn\u001b[39;00m(merge(list1,list2,A))\n",
      "Cell \u001b[0;32mIn[44], line 17\u001b[0m, in \u001b[0;36mmerge\u001b[0;34m(A, B, output)\u001b[0m\n\u001b[1;32m     15\u001b[0m     i \u001b[38;5;241m=\u001b[39m i \u001b[38;5;241m+\u001b[39m\u001b[38;5;241m1\u001b[39m\n\u001b[1;32m     16\u001b[0m \u001b[38;5;28;01mwhile\u001b[39;00m j \u001b[38;5;241m<\u001b[39m \u001b[38;5;28mlen\u001b[39m(B):\n\u001b[0;32m---> 17\u001b[0m     output[i\u001b[38;5;241m+\u001b[39mj] \u001b[38;5;241m=\u001b[39m B[i]\n\u001b[1;32m     18\u001b[0m     j \u001b[38;5;241m=\u001b[39m j \u001b[38;5;241m+\u001b[39m\u001b[38;5;241m1\u001b[39m\n\u001b[1;32m     19\u001b[0m \u001b[38;5;28;01mreturn\u001b[39;00m output\n",
      "\u001b[0;31mIndexError\u001b[0m: list index out of range"
     ]
    }
   ],
   "source": [
    "import numpy as np\n",
    "Tuple = [1,2,3,4]\n",
    "def merge(A,B,output):\n",
    "    i = 0\n",
    "    j = 0 \n",
    "    while i<len(A) and j<len(B):\n",
    "        if A[i] <= B[i]:\n",
    "            output[i+j] = A[i]\n",
    "            i = i +1\n",
    "        else:\n",
    "            output[i+j] = B[j]\n",
    "            j = j+1\n",
    "    while i < len(A):\n",
    "        output[i+j] = A[i]\n",
    "        i = i +1\n",
    "    while j < len(B):\n",
    "        output[i+j] = B[i]\n",
    "        j = j +1\n",
    "    return output\n",
    "\n",
    "def mergesort(A):\n",
    "    if len(A) <= 1:\n",
    "        return A\n",
    "    i = len(A)//2\n",
    "    list1 = mergesort(A[0:i])\n",
    "    list2 = mergesort(A[i:len(A)])\n",
    "    return(merge(list1,list2,A))\n",
    "\n",
    "\n",
    "\n",
    "mergesort([1,4,6,2,3,8,9,5])\n"
   ]
  },
  {
   "cell_type": "code",
   "execution_count": null,
   "metadata": {},
   "outputs": [],
   "source": []
  }
 ],
 "metadata": {
  "kernelspec": {
   "display_name": "in3050",
   "language": "python",
   "name": "python3"
  },
  "language_info": {
   "codemirror_mode": {
    "name": "ipython",
    "version": 3
   },
   "file_extension": ".py",
   "mimetype": "text/x-python",
   "name": "python",
   "nbconvert_exporter": "python",
   "pygments_lexer": "ipython3",
   "version": "3.11.7"
  }
 },
 "nbformat": 4,
 "nbformat_minor": 2
}
